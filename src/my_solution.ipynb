{
 "cells": [
  {
   "cell_type": "code",
   "execution_count": null,
   "metadata": {},
   "outputs": [],
   "source": []
  },
  {
   "cell_type": "code",
   "execution_count": 4,
   "metadata": {},
   "outputs": [
    {
     "name": "stdout",
     "output_type": "stream",
     "text": [
      "<Response [403]>\n"
     ]
    }
   ],
   "source": [
    "import requests\n",
    "import time\n",
    "\n",
    "url = \" https://www.macrotrends.net/stocks/charts/TSLA/tesla/revenue\"\n",
    "html_data = requests.get(url, time.sleep(10))#.text\n",
    "\n",
    "print(html_data)"
   ]
  },
  {
   "cell_type": "code",
   "execution_count": 2,
   "metadata": {},
   "outputs": [
    {
     "data": {
      "text/plain": [
       "False"
      ]
     },
     "execution_count": 2,
     "metadata": {},
     "output_type": "execute_result"
    }
   ],
   "source": [
    "'403 Forbidden' in html_data"
   ]
  },
  {
   "cell_type": "code",
   "execution_count": 3,
   "metadata": {},
   "outputs": [],
   "source": []
  },
  {
   "cell_type": "code",
   "execution_count": 8,
   "metadata": {},
   "outputs": [
    {
     "data": {
      "text/plain": [
       "'<!DOCTYPE html><html lang=\"en-US\"><head><title>Just a moment...</title><meta http-equiv=\"Content-Type\" content=\"text/html; charset=UTF-8\"><meta http-equiv=\"X-UA-Compatible\" content=\"IE=Edge\"><meta name=\"robots\" content=\"noindex,nofollow\"><meta name=\"viewport\" content=\"width=device-width,initial-scale=1\"><style>*{box-sizing:border-box;margin:0;padding:0}html{line-height:1.15;-webkit-text-size-adjust:100%;color:#313131}button,html{font-family:system-ui,-apple-system,BlinkMacSystemFont,Segoe UI,Roboto,Helvetica Neue,Arial,Noto Sans,sans-serif,Apple Color Emoji,Segoe UI Emoji,Segoe UI Symbol,Noto Color Emoji}@media (prefers-color-scheme:dark){body{background-color:#222;color:#d9d9d9}body a{color:#fff}body a:hover{color:#ee730a;text-decoration:underline}body .lds-ring div{border-color:#999 transparent transparent}body .font-red{color:#b20f03}body .big-button,body .pow-button{background-color:#4693ff;color:#1d1d1d}body #challenge-success-text{background-image:url(data:image/svg+xml;base64,PHN2ZyB4bWxucz0iaHR0cDovL3d3dy53My5vcmcvMjAwMC9zdmciIHdpZHRoPSIzMiIgaGVpZ2h0PSIzMiIgZmlsbD0ibm9uZSIgdmlld0JveD0iMCAwIDI2IDI2Ij48cGF0aCBmaWxsPSIjZDlkOWQ5IiBkPSJNMTMgMGExMyAxMyAwIDEgMCAwIDI2IDEzIDEzIDAgMCAwIDAtMjZtMCAyNGExMSAxMSAwIDEgMSAwLTIyIDExIDExIDAgMCAxIDAgMjIiLz48cGF0aCBmaWxsPSIjZDlkOWQ5IiBkPSJtMTAuOTU1IDE2LjA1NS0zLjk1LTQuMTI1LTEuNDQ1IDEuMzg1IDUuMzcgNS42MSA5LjQ5NS05LjYtMS40Mi0xLjQwNXoiLz48L3N2Zz4=)}body #challenge-error-text{background-image:url(data:image/svg+xml;base64,PHN2ZyB4bWxucz0iaHR0cDovL3d3dy53My5vcmcvMjAwMC9zdmciIHdpZHRoPSIzMiIgaGVpZ2h0PSIzMiIgZmlsbD0ibm9uZSI+PHBhdGggZmlsbD0iI0IyMEYwMyIgZD0iTTE2IDNhMTMgMTMgMCAxIDAgMTMgMTNBMTMuMDE1IDEzLjAxNSAwIDAgMCAxNiAzbTAgMjRhMTEgMTEgMCAxIDEgMTEtMTEgMTEuMDEgMTEuMDEgMCAwIDEtMTEgMTEiLz48cGF0aCBmaWxsPSIjQjIwRjAzIiBkPSJNMTcuMDM4IDE4LjYxNUgxNC44N0wxNC41NjMgOS41aDIuNzgzem0tMS4wODQgMS40MjdxLjY2IDAgMS4wNTcuMzg4LjQwNy4zODkuNDA3Ljk5NCAwIC41OTYtLjQwNy45ODQtLjM5Ny4zOS0xLjA1Ny4zODktLjY1IDAtMS4wNTYtLjM4OS0uMzk4LS4zODktLjM5OC0uOTg0IDAtLjU5Ny4zOTgtLjk4NS40MDYtLjM5NyAxLjA1Ni0uMzk3Ii8+PC9zdmc+)}}body{display:flex;flex-direction:column;min-height:100vh}body.no-js .loading-spinner{visibility:hidden}body.no-js .challenge-running{display:none}body.dark{background-color:#222;color:#d9d9d9}body.dark a{color:#fff}body.dark a:hover{color:#ee730a;text-decoration:underline}body.dark .lds-ring div{border-color:#999 transparent transparent}body.dark .font-red{color:#b20f03}body.dark .big-button,body.dark .pow-button{background-color:#4693ff;color:#1d1d1d}body.dark #challenge-success-text{background-image:url(data:image/svg+xml;base64,PHN2ZyB4bWxucz0iaHR0cDovL3d3dy53My5vcmcvMjAwMC9zdmciIHdpZHRoPSIzMiIgaGVpZ2h0PSIzMiIgZmlsbD0ibm9uZSIgdmlld0JveD0iMCAwIDI2IDI2Ij48cGF0aCBmaWxsPSIjZDlkOWQ5IiBkPSJNMTMgMGExMyAxMyAwIDEgMCAwIDI2IDEzIDEzIDAgMCAwIDAtMjZtMCAyNGExMSAxMSAwIDEgMSAwLTIyIDExIDExIDAgMCAxIDAgMjIiLz48cGF0aCBmaWxsPSIjZDlkOWQ5IiBkPSJtMTAuOTU1IDE2LjA1NS0zLjk1LTQuMTI1LTEuNDQ1IDEuMzg1IDUuMzcgNS42MSA5LjQ5NS05LjYtMS40Mi0xLjQwNXoiLz48L3N2Zz4=)}body.dark #challenge-error-text{background-image:url(data:image/svg+xml;base64,PHN2ZyB4bWxucz0iaHR0cDovL3d3dy53My5vcmcvMjAwMC9zdmciIHdpZHRoPSIzMiIgaGVpZ2h0PSIzMiIgZmlsbD0ibm9uZSI+PHBhdGggZmlsbD0iI0IyMEYwMyIgZD0iTTE2IDNhMTMgMTMgMCAxIDAgMTMgMTNBMTMuMDE1IDEzLjAxNSAwIDAgMCAxNiAzbTAgMjRhMTEgMTEgMCAxIDEgMTEtMTEgMTEuMDEgMTEuMDEgMCAwIDEtMTEgMTEiLz48cGF0aCBmaWxsPSIjQjIwRjAzIiBkPSJNMTcuMDM4IDE4LjYxNUgxNC44N0wxNC41NjMgOS41aDIuNzgzem0tMS4wODQgMS40MjdxLjY2IDAgMS4wNTcuMzg4LjQwNy4zODkuNDA3Ljk5NCAwIC41OTYtLjQwNy45ODQtLjM5Ny4zOS0xLjA1Ny4zODktLjY1IDAtMS4wNTYtLjM4OS0uMzk4LS4zODktLjM5OC0uOTg0IDAtLjU5Ny4zOTgtLjk4NS40MDYtLjM5NyAxLjA1Ni0uMzk3Ii8+PC9zdmc+)}body.light{background-color:transparent;color:#313131}body.light a{color:#0051c3}body.light a:hover{color:#ee730a;text-decoration:underline}body.light .lds-ring div{border-color:#595959 transparent transparent}body.light .font-red{color:#fc574a}body.light .big-button,body.light .pow-button{background-color:#003681;border-color:#003681;color:#fff}body.light #challenge-success-text{background-image:url(data:image/svg+xml;base64,PHN2ZyB4bWxucz0iaHR0cDovL3d3dy53My5vcmcvMjAwMC9zdmciIHdpZHRoPSIzMiIgaGVpZ2h0PSIzMiIgZmlsbD0ibm9uZSIgdmlld0JveD0iMCAwIDI2IDI2Ij48cGF0aCBmaWxsPSIjMzEzMTMxIiBkPSJNMTMgMGExMyAxMyAwIDEgMCAwIDI2IDEzIDEzIDAgMCAwIDAtMjZtMCAyNGExMSAxMSAwIDEgMSAwLTIyIDExIDExIDAgMCAxIDAgMjIiLz48cGF0aCBmaWxsPSIjMzEzMTMxIiBkPSJtMTAuOTU1IDE2LjA1NS0zLjk1LTQuMTI1LTEuNDQ1IDEuMzg1IDUuMzcgNS42MSA5LjQ5NS05LjYtMS40Mi0xLjQwNXoiLz48L3N2Zz4=)}body.light #challenge-error-text{background-image:url(data:image/svg+xml;base64,PHN2ZyB4bWxucz0iaHR0cDovL3d3dy53My5vcmcvMjAwMC9zdmciIHdpZHRoPSIzMiIgaGVpZ2h0PSIzMiIgZmlsbD0ibm9uZSI+PHBhdGggZmlsbD0iI2ZjNTc0YSIgZD0iTTE2IDNhMTMgMTMgMCAxIDAgMTMgMTNBMTMuMDE1IDEzLjAxNSAwIDAgMCAxNiAzbTAgMjRhMTEgMTEgMCAxIDEgMTEtMTEgMTEuMDEgMTEuMDEgMCAwIDEtMTEgMTEiLz48cGF0aCBmaWxsPSIjZmM1NzRhIiBkPSJNMTcuMDM4IDE4LjYxNUgxNC44N0wxNC41NjMgOS41aDIuNzgzem0tMS4wODQgMS40MjdxLjY2IDAgMS4wNTcuMzg4LjQwNy4zODkuNDA3Ljk5NCAwIC41OTYtLjQwNy45ODQtLjM5Ny4zOS0xLjA1Ny4zODktLjY1IDAtMS4wNTYtLjM4OS0uMzk4LS4zODktLjM5OC0uOTg0IDAtLjU5Ny4zOTgtLjk4NS40MDYtLjM5NyAxLjA1Ni0uMzk3Ii8+PC9zdmc+)}a{background-color:transparent;color:#0051c3;text-decoration:none;transition:color .15s ease}a:hover{color:#ee730a;text-decoration:underline}.main-content{margin:8rem auto;max-width:60rem;width:100%}.heading-favicon{height:2rem;margin-right:.5rem;width:2rem}@media (width <= 720px){.main-content{margin-top:4rem}.heading-favicon{height:1.5rem;width:1.5rem}}.footer,.main-content{padding-left:1.5rem;padding-right:1.5rem}.main-wrapper{align-items:center;display:flex;flex:1;flex-direction:column}.font-red{color:#b20f03}.spacer{margin:2rem 0}.h1{font-size:2.5rem;font-weight:500;line-height:3.75rem}.h2{font-weight:500}.core-msg,.h2{font-size:1.5rem;line-height:2.25rem}.body-text,.core-msg{font-weight:400}.body-text{font-size:1rem;line-height:1.25rem}@media (width <= 720px){.h1{font-size:1.5rem;line-height:1.75rem}.h2{font-size:1.25rem}.core-msg,.h2{line-height:1.5rem}.core-msg{font-size:1rem}}#challenge-error-text{background-image:url(data:image/svg+xml;base64,PHN2ZyB4bWxucz0iaHR0cDovL3d3dy53My5vcmcvMjAwMC9zdmciIHdpZHRoPSIzMiIgaGVpZ2h0PSIzMiIgZmlsbD0ibm9uZSI+PHBhdGggZmlsbD0iI2ZjNTc0YSIgZD0iTTE2IDNhMTMgMTMgMCAxIDAgMTMgMTNBMTMuMDE1IDEzLjAxNSAwIDAgMCAxNiAzbTAgMjRhMTEgMTEgMCAxIDEgMTEtMTEgMTEuMDEgMTEuMDEgMCAwIDEtMTEgMTEiLz48cGF0aCBmaWxsPSIjZmM1NzRhIiBkPSJNMTcuMDM4IDE4LjYxNUgxNC44N0wxNC41NjMgOS41aDIuNzgzem0tMS4wODQgMS40MjdxLjY2IDAgMS4wNTcuMzg4LjQwNy4zODkuNDA3Ljk5NCAwIC41OTYtLjQwNy45ODQtLjM5Ny4zOS0xLjA1Ny4zODktLjY1IDAtMS4wNTYtLjM4OS0uMzk4LS4zODktLjM5OC0uOTg0IDAtLjU5Ny4zOTgtLjk4NS40MDYtLjM5NyAxLjA1Ni0uMzk3Ii8+PC9zdmc+);padding-left:34px}#challenge-error-text,#challenge-success-text{background-repeat:no-repeat;background-size:contain}#challenge-success-text{background-image:url(data:image/svg+xml;base64,PHN2ZyB4bWxucz0iaHR0cDovL3d3dy53My5vcmcvMjAwMC9zdmciIHdpZHRoPSIzMiIgaGVpZ2h0PSIzMiIgZmlsbD0ibm9uZSIgdmlld0JveD0iMCAwIDI2IDI2Ij48cGF0aCBmaWxsPSIjMzEzMTMxIiBkPSJNMTMgMGExMyAxMyAwIDEgMCAwIDI2IDEzIDEzIDAgMCAwIDAtMjZtMCAyNGExMSAxMSAwIDEgMSAwLTIyIDExIDExIDAgMCAxIDAgMjIiLz48cGF0aCBmaWxsPSIjMzEzMTMxIiBkPSJtMTAuOTU1IDE2LjA1NS0zLjk1LTQuMTI1LTEuNDQ1IDEuMzg1IDUuMzcgNS42MSA5LjQ5NS05LjYtMS40Mi0xLjQwNXoiLz48L3N2Zz4=);padding-left:42px}.text-center{text-align:center}.big-button{border:.063rem solid #0051c3;border-radius:.313rem;font-size:.875rem;line-height:1.313rem;padding:.375rem 1rem;transition-duration:.2s;transition-property:background-color,border-color,color;transition-timing-function:ease}.big-button:hover{cursor:pointer}.captcha-prompt:not(.hidden){display:flex}@media (width <= 720px){.captcha-prompt:not(.hidden){flex-wrap:wrap;justify-content:center}}.pow-button{background-color:#0051c3;color:#fff;margin:2rem 0}.pow-button:hover{background-color:#003681;border-color:#003681;color:#fff}.footer{font-size:.75rem;line-height:1.125rem;margin:0 auto;max-width:60rem;width:100%}.footer-inner{border-top:1px solid #d9d9d9;padding-bottom:1rem;padding-top:1rem}.clearfix:after{clear:both;content:\"\";display:table}.clearfix .column{float:left;padding-right:1.5rem;width:50%}.diagnostic-wrapper{margin-bottom:.5rem}.footer .ray-id{text-align:center}.footer .ray-id code{font-family:monaco,courier,monospace}.core-msg,.zone-name-title{overflow-wrap:break-word}@media (width <= 720px){.diagnostic-wrapper{display:flex;flex-wrap:wrap;justify-content:center}.clearfix:after{clear:none;content:none;display:initial;text-align:center}.column{padding-bottom:2rem}.clearfix .column{float:none;padding:0;width:auto;word-break:keep-all}.zone-name-title{margin-bottom:1rem}}.loading-spinner{height:76.391px}.lds-ring{display:inline-block;position:relative}.lds-ring,.lds-ring div{height:1.875rem;width:1.875rem}.lds-ring div{animation:lds-ring 1.2s cubic-bezier(.5,0,.5,1) infinite;border:.3rem solid transparent;border-radius:50%;border-top-color:#313131;box-sizing:border-box;display:block;position:absolute}.lds-ring div:first-child{animation-delay:-.45s}.lds-ring div:nth-child(2){animation-delay:-.3s}.lds-ring div:nth-child(3){animation-delay:-.15s}@keyframes lds-ring{0%{transform:rotate(0)}to{transform:rotate(1turn)}}@media screen and (-ms-high-contrast:active),screen and (-ms-high-contrast:none){.main-wrapper,body{display:block}}</style><meta http-equiv=\"refresh\" content=\"375\"></head><body class=\"no-js\"><div class=\"main-wrapper\" role=\"main\"><div class=\"main-content\"><noscript><div id=\"challenge-error-title\"><div class=\"h2\"><span id=\"challenge-error-text\">Enable JavaScript and cookies to continue</span></div></div></noscript></div></div><script>(function(){window._cf_chl_opt={cvId: \\'3\\',cZone: \"www.macrotrends.net\",cType: \\'managed\\',cNounce: \\'67898\\',cRay: \\'8605ace8dd227ff9\\',cHash: \\'d16f0ec41a65be3\\',cUPMDTk: \"\\\\/stocks\\\\/charts\\\\/TSLA\\\\/tesla\\\\/revenue?__cf_chl_tk=i_hM5KxY._acwD4ZD75XiXGLTJTeL9hHGJxrS4XGfwk-1709763022-0.0.1.1-1642\",cFPWv: \\'b\\',cTTimeMs: \\'1000\\',cMTimeMs: \\'375000\\',cTplV: 5,cTplB: \\'cf\\',cK: \"visitor-time\",fa: \"\\\\/stocks\\\\/charts\\\\/TSLA\\\\/tesla\\\\/revenue?__cf_chl_f_tk=i_hM5KxY._acwD4ZD75XiXGLTJTeL9hHGJxrS4XGfwk-1709763022-0.0.1.1-1642\",md: \"gpG8Q6GkN4rCsR_20zI2WrJzpetbGPvKgpyO_rBYPFw-1709763022-1.1.1.1-lbfqFUYzK86LjsoKrM2pT4LahZENwyj_sRyvOBkElsSV63VQScUNHK7hPu0gzOAgRJ3A6SKs1U_r5WYx37bkv9mScVy.ayBd5dTQxZ6U4G0_7k64ChdzXaw8dWzgD5opCxngS5PLDUod8Mff3TxHTIpB5ZU6zx_l6_P71o1DnbB6Dll8P6h1msX7TrTRFu0VinrSpQkF71t5FdGWBPFNGA2oDrCVsCxFJBAJV4N4uC_0fqsojH.Pwh9OMN2yjBIL_P1Jy3kfjcD1l98IGMYnMqYR0lqwyC2p9dsT0B9SaPfZIC7wqVzR6A5KbRerImPgofCwHTkgVvMdo4_rslOWcp4ExcJfQUQ8Cu8ynWCVMzCoWbiuoXnv.5Ku.wBxKIUzHb8OQaX.QL7J8QtlOPzCerBsrfzPk36zIYmssquRCBByKE8Em2HbsfZhJRT2Xh6AM0.OKZSFC4RE.3LUiKtojtyP1ryuY.vsyYZdN8PoOzKY7vvxHM7_LqV_8AVJTL6ljoMQUgmq0sw8e6yVua1GWTP7LAOFwngAtMEDcOd_0OV.s6lh008Dj80Q34dI2u9q3wtpR9xAt6XUet5FE5og9Q4zZ.wDGaZiBlk0UKVrM_jprXMXExy6jdDR_UkcufqpQUwTgODDmMpIRXOAwlJ9u582Oscpz9ieF9Gs3vGFgc5nWd960ah5wia3lyEqhNFcZTRHOv5pLU_e9b4aUJCF3KX6EhGXeDd7HL3TnN4_iOn75OdngLa5s1tqrtA3K3nqK4zepsNZZxOHzjuASbqNs5iph3Pv4V_4Ba868vDDPZGEngGWXKAVcDmPfb6s_UO84aEr5DdMKkPttwpb91SGj09mcx.KIEiVr9rnOtP0cXdfYs71wsnj1T7FwWP_gO56c119Aa.u4oglFkhqadRGeFysK2wayz89yty9r0.hMXpiavIutzcRLiDCTgRuHtzT45aJG_FWxPivzUK5Lx0wJVjjeuLMyEIqhX8W06oF_IjdYq1IR1KFoxCpN2ze3nBADVaD8xMtTY7jY8KsGSD7MQe8D2534buBRCF_WV7_j9Y4HaB5y9HsKO4fcO.2r5yJOqbdr7VuuahLTV45ZRyFjpAKQdHsuu2HAD7TyXn0ajvB5Hz39r7NbhgVA56t.1lCde3bOboIaUasBzBD0k3b3ilfNSM5WJ.rFOfZC.S28UQQDJkPINL.hDGJzJgoT9sX3kL550uL5Du3v0AohR_mmJlaEo9e7Y416PaQJ3Z.SsxSdP.u2HOEp9RBiZjtoNMggi63NEyQ1MHooc3Rbnt69cFaPf5N9_lcdn_jglpLPi3XAMRqKk_1ljRoxX9Zwpy05sVJ2jzZj.vsrBdoL8EcmGM7zPJKgcb2_pAfVUdo_B3hTaCp1EhCu9cBJDYtX92ffLO7ILRyJFxPErqNXaB4.1oHx7j2_TeXmHOgDWwhNlP_2DC4VnyaalgaSOKNLtWHKNa6AizsGPSX8hThze2FJnxeEXWfauMGDnM5PpetO.kKAaSDBThflnAuwptbCzYMrpm8nEX2Y7EJu56iNQmpOMGHdfPwmu.w3piSCKdw8XY\",mdrd: \"aeXYTWgh7WXYBgqDMUwy_WQYPMoQNL17_dm61LqGVU8-1709763022-1.1.1.1-Yga.PX0yd9_POfcg2L.el7XIDN5XhK7CmiP_sIoZet3m1rw1LLu0QLifpD9JMvDiEj3r8XjxvgCa9BBWG1cJH2WtwnKgGRgUixZR4aMRm.IP1RAyEGlXt4koudKdbb9uMcv4jx7Xj.DQlGIuzB966JYF7Fot6SubzIleA267E6_x0Vo9VHTCtwSoIBhON_5AxxbbLwvBbWajKkEe.sy355E7ultcxYYElbDjaGan6cKDu2Ox_gj_GO.XY1gVXsJjwiJbh8CgtIvYmbqdcjzsl0FBHR1gD9MkQUG8Z6MMmK91SRHzCbCelr8tdF8zI0nyOc6SKQEyfOrbfrbJcY0j63dJtiFhiD80LPD68dgedKJnZHcRwfxNWzgCw9k3maoVW8Vvt2qUb1urxvKpCZ.0PhmsmqnTrgAefsWKCG0CDJ..kGPTeawsBo5mX5x6sPnHYWNvoQ6M96vWM0bQsEmK4m4DB5i3GyQ9Ig9A31zfgLXP7hR48oVtyblgnWim5mcqV_SKkCgFWVSgJI5.ZCOVMaoQGG_kS.hfkfZzhjJmTpDHVvsz9yH.gYJBgXwB6m7cjMJUjaJ_6H0z5ZMe2T9e_8WFoTKOM_2PWmiT5hYSV5alHVNpqH73Hx__GwHiBiNJHUoVWtBOvhiIH_49e6DSMChtyeIFRP2F6MWixzeJ4LvAIxZ7JtR9e28PL_VQeMkbMniXxfqx4j7isV0cVg6.ABSc75AXD78wT7befd6fc5TlbadxIvDFvBYxSBiQOJcj4SGsuOQNIcEi.xSpq4Prd9lrSYpzHnNIlUXheD4qlDUyWGAGl.86l9G7nFjiySmuyTrdHqXSXqaBc2HZYYLailC7z2jBrK6WGpJoAHCdm7rHR7i_V8l1aZLVgKdz7eQ9RZF.of0cf6cMjOWIxRQFBqpuVz_M2TX3T4OtWM30TKnWhSAIhXa4Ft1RnAFYCQiCFohhFOfriCTb2uvTCM9shZ0OYpQyLLz0jD9wUXNp_TPziwJy._Nj9Vq6LrPFmUA4sL4f8YXHBAORJiZH_yhESGhVGYLTsuJcXy3f8mU1fxlK5UPLg35Q2GTM6JEbmHCgECqMqmtbvaDSCpLZ._S8rKT0Tm4LXgsR2HhCVUb0p_kZn9lN9GCuKXuc9uxs55eoWRF9Xe2C_KkxHfdmQeJbW5QLL7KlKyGHHkkoLNgkBvl9UDXP0WUFL7deAI3773abdsob6PjidKfc50tsmUGACI30I7MwZWmIG3V7lJUYfZ6E1GaX4YxEc9Aroy5SQv9KaFN5pIRRKYdBS14xC4n7nPsoX._4R.9TQKi.oyEDWAM0ddsB1yqn4Y7VkJsPU9ptYhhCoTWjDdORuTbTQSbTxijjqaebM20A0IqVmK7VaXikMlALmsvEYYMov4gBeTwY5yLAe7lorAfdi508ojBZqSzw3h8Ox_sj2zegdQtJxKp_ipvmNPkqeHq3f6D4VGXiaJ0phj.IWXFcgAxxwJubWkj4qAFcaxwhebtt8qxPpByZ4nQvzAfa1SjZSh3Kc3MbFkHOA1wc_2G9qHwfVO_nljclYCu3IfA9nWCb4mH4W1L3rZyCpuH6R_vL.szU8Q3vflBSut8RiLBBLN9hsoO7FwX2XrCXN0q37cEhqBbMneoH_SCQ_ypRveBTqvIYgJsoty0co_KjMCLj4QRA.jF43cX_m_3dlNJf1D8l1ychbvvq32.FIL5MUrd7w68ecTqC.1P6WHejii4m4DrdCH6mKh0dFZbR9hyGg5PN_bity5EE3ZUk2Z1aL.AUOlYUcQKhdNhIFK2NjiXiSI2xQvLjr9SzbijBG8xQaJeGcfZcz2Mw_0BHWJVmKw97_SdMfteSegLoQEN8B.A8u7iQTYGqRQQIyH48lJ3cQQyxQcCAdVpUMO8COV7_PatrFZM7cm05yRWlgP.xhsjHRCJci6D78mMoNY5R4qFFgWYHtt44YAz1elW3YS4STGcvQvAic6gi.E6uEqIKLbiqZuliBdFVuCyFpqxQ0gEQlnpm3j3qYtTmkKngUm4In.nlZKKCChCYqANpbvDGd9m3NE7LUFKm6w\",cRq: {ru: \\'aHR0cHM6Ly93d3cubWFjcm90cmVuZHMubmV0L3N0b2Nrcy9jaGFydHMvVFNMQS90ZXNsYS9yZXZlbnVl\\',ra: \\'TW96aWxsYS81LjAgKE1hY2ludG9zaDsgSW50ZWwgTWFjIE9TIFggMTBfMTFfNSkgQXBwbGVXZWJLaXQvNTM3LjM2IChLSFRNTCwgbGlrZSBHZWNrbykgQ2hyb21lLzUwLjAuMjY2MS4xMDIgU2FmYXJpLzUzNy4zNg==\\',rm: \\'R0VU\\',d: \\'HZhp3VwNefLKitUeom0kNgYqg/uBRJHlF3Z+yKOwyB/k8NQPmAFswk9ptbvibQcmFROvb/78DHBSPA2sGrcyaRodmVVuNSY6ZSr9lnfLWAH9siERJzXpnixsNLwxUWbsY6DNFp8bM71yjwxGSfYwt3iftA21abQIMPM8C7iTIfU1qM6NrxDXtA3ccOpAWpkizS+3qhCDp2+XOnv3XN7x9/5c5VirApeVnug/N8U4g6fmN1pyLBJgZ74RJhFK+tYRY1QE81GP6epp2DpCAfwIiwhxc1psB7AhLp83EKW01V7XTA7u0E0SmtHyAfsWbSxRIClmutaA4cW0E2+rzRK7oC9why3D6vbDyduei4zC4++4cWb4qmdT/uZIrWBgZPXzFMZXFM0mtu/Y4e6FMHhs4H/CZRjzMmkX1qPa94xwSjot3udrVnpqPZ5n223XucPaza0zHIJgmhMQJV8kQqmhBr3wcB8oR9q+k7PXc7scC2j1/STMur6By5i/WqrGW0ud2KgnDd4QG6gXuIsRO7OPWX1XLXsCCKvhAdOIwhVQCkauR1HQNuPn+wd/KFq/a8uF5NQglC5rHkNJsgndxS9RdQ==\\',t: \\'MTcwOTc2MzAyMi4yMjgwMDA=\\',cT: Math.floor(Date.now() / 1000),m: \\'AUX+sMdqCub22uRPKVcDslFgwKkrRFHIYpyggUxAAqg=\\',i1: \\'9l5RU7TWsn+x0+hzQw8ATg==\\',i2: \\'+SREAPKk8imxHpZzMKyzYA==\\',zh: \\'3x29lVO8nq/NXG2OdEhf89vgUQ0axXVy6sOUTSfQRV0=\\',uh: \\'MJnL4yXqlDXgoEFDXJrrYdndq9vyeF7u7u/p5sDi8wY=\\',hh: \\'vkZeRkFvijS7WQbLhOK2RF7YksIX97j9JIj48vxNOqc=\\',}};var cpo = document.createElement(\\'script\\');cpo.src = \\'/cdn-cgi/challenge-platform/h/b/orchestrate/chl_page/v1?ray=8605ace8dd227ff9\\';window._cf_chl_opt.cOgUHash = location.hash === \\'\\' && location.href.indexOf(\\'#\\') !== -1 ? \\'#\\' : location.hash;window._cf_chl_opt.cOgUQuery = location.search === \\'\\' && location.href.slice(0, location.href.length - window._cf_chl_opt.cOgUHash.length).indexOf(\\'?\\') !== -1 ? \\'?\\' : location.search;if (window.history && window.history.replaceState) {var ogU = location.pathname + window._cf_chl_opt.cOgUQuery + window._cf_chl_opt.cOgUHash;history.replaceState(null, null, \"\\\\/stocks\\\\/charts\\\\/TSLA\\\\/tesla\\\\/revenue?__cf_chl_rt_tk=i_hM5KxY._acwD4ZD75XiXGLTJTeL9hHGJxrS4XGfwk-1709763022-0.0.1.1-1642\" + window._cf_chl_opt.cOgUHash);cpo.onload = function() {history.replaceState(null, null, ogU);}}document.getElementsByTagName(\\'head\\')[0].appendChild(cpo);}());</script></body></html>'"
      ]
     },
     "execution_count": 8,
     "metadata": {},
     "output_type": "execute_result"
    }
   ],
   "source": [
    "import requests\n",
    "import time\n",
    "\n",
    "url = \" https://www.macrotrends.net/stocks/charts/TSLA/tesla/revenue\"\n",
    "#html_data = requests.get(url, time.sleep(10))\n",
    "\n",
    "# If not information is extracted, then connect as anonymous\n",
    "#if \"403 Forbidden\" in html_data:\n",
    "#    print('Forbidden')\n",
    "#    print()\n",
    "headers = {\"User-Agent\": \"Mozilla/5.0 (Macintosh; Intel Mac OS X 10_11_5) AppleWebKit/537.36 (KHTML, like Gecko) Chrome/50.0.2661.102 Safari/537.36\"}\n",
    "request = requests.get(url, headers = headers)\n",
    "time.sleep(10)\n",
    "html_data = request.text\n",
    "\n",
    "html_data"
   ]
  },
  {
   "cell_type": "code",
   "execution_count": 10,
   "metadata": {},
   "outputs": [
    {
     "data": {
      "text/plain": [
       "[]"
      ]
     },
     "execution_count": 10,
     "metadata": {},
     "output_type": "execute_result"
    }
   ],
   "source": [
    "#Find all tables\n",
    "tables = soup.find_all(\"table\")\n",
    "tables"
   ]
  },
  {
   "cell_type": "code",
   "execution_count": null,
   "metadata": {},
   "outputs": [],
   "source": [
    "import pandas as pd\n",
    "\n",
    "for index, table in enumerate(tables):\n",
    "    if (\"Tesla Quarterly Revenue\" in str(table)):\n",
    "        table_index = index\n",
    "        break\n",
    "\n",
    "# Create a DataFrame\n",
    "tesla_revenue = pd.DataFrame(columns = [\"Date\", \"Revenue\"])\n",
    "for row in tables[table_index].tbody.find_all(\"tr\"):\n",
    "    col = row.find_all(\"td\")\n",
    "    if (col != []):\n",
    "        Date = col[0].text\n",
    "        Revenue = col[1].text.replace(\"$\", \"\").replace(\",\", \"\")\n",
    "        tesla_revenue = pd.concat([tesla_revenue, pd.DataFrame({\n",
    "            \"Date\": Date,\n",
    "            \"Revenue\": Revenue\n",
    "        }, index = [0])], ignore_index = True)\n",
    "\n",
    "tesla_revenue.head()"
   ]
  },
  {
   "cell_type": "code",
   "execution_count": 9,
   "metadata": {},
   "outputs": [
    {
     "data": {
      "text/plain": [
       "<!DOCTYPE html>\n",
       "<html lang=\"en-US\"><head><title>Just a moment...</title><meta content=\"text/html; charset=utf-8\" http-equiv=\"Content-Type\"/><meta content=\"IE=Edge\" http-equiv=\"X-UA-Compatible\"/><meta content=\"noindex,nofollow\" name=\"robots\"/><meta content=\"width=device-width,initial-scale=1\" name=\"viewport\"/><style>*{box-sizing:border-box;margin:0;padding:0}html{line-height:1.15;-webkit-text-size-adjust:100%;color:#313131}button,html{font-family:system-ui,-apple-system,BlinkMacSystemFont,Segoe UI,Roboto,Helvetica Neue,Arial,Noto Sans,sans-serif,Apple Color Emoji,Segoe UI Emoji,Segoe UI Symbol,Noto Color Emoji}@media (prefers-color-scheme:dark){body{background-color:#222;color:#d9d9d9}body a{color:#fff}body a:hover{color:#ee730a;text-decoration:underline}body .lds-ring div{border-color:#999 transparent transparent}body .font-red{color:#b20f03}body .big-button,body .pow-button{background-color:#4693ff;color:#1d1d1d}body #challenge-success-text{background-image:url(data:image/svg+xml;base64,PHN2ZyB4bWxucz0iaHR0cDovL3d3dy53My5vcmcvMjAwMC9zdmciIHdpZHRoPSIzMiIgaGVpZ2h0PSIzMiIgZmlsbD0ibm9uZSIgdmlld0JveD0iMCAwIDI2IDI2Ij48cGF0aCBmaWxsPSIjZDlkOWQ5IiBkPSJNMTMgMGExMyAxMyAwIDEgMCAwIDI2IDEzIDEzIDAgMCAwIDAtMjZtMCAyNGExMSAxMSAwIDEgMSAwLTIyIDExIDExIDAgMCAxIDAgMjIiLz48cGF0aCBmaWxsPSIjZDlkOWQ5IiBkPSJtMTAuOTU1IDE2LjA1NS0zLjk1LTQuMTI1LTEuNDQ1IDEuMzg1IDUuMzcgNS42MSA5LjQ5NS05LjYtMS40Mi0xLjQwNXoiLz48L3N2Zz4=)}body #challenge-error-text{background-image:url(data:image/svg+xml;base64,PHN2ZyB4bWxucz0iaHR0cDovL3d3dy53My5vcmcvMjAwMC9zdmciIHdpZHRoPSIzMiIgaGVpZ2h0PSIzMiIgZmlsbD0ibm9uZSI+PHBhdGggZmlsbD0iI0IyMEYwMyIgZD0iTTE2IDNhMTMgMTMgMCAxIDAgMTMgMTNBMTMuMDE1IDEzLjAxNSAwIDAgMCAxNiAzbTAgMjRhMTEgMTEgMCAxIDEgMTEtMTEgMTEuMDEgMTEuMDEgMCAwIDEtMTEgMTEiLz48cGF0aCBmaWxsPSIjQjIwRjAzIiBkPSJNMTcuMDM4IDE4LjYxNUgxNC44N0wxNC41NjMgOS41aDIuNzgzem0tMS4wODQgMS40MjdxLjY2IDAgMS4wNTcuMzg4LjQwNy4zODkuNDA3Ljk5NCAwIC41OTYtLjQwNy45ODQtLjM5Ny4zOS0xLjA1Ny4zODktLjY1IDAtMS4wNTYtLjM4OS0uMzk4LS4zODktLjM5OC0uOTg0IDAtLjU5Ny4zOTgtLjk4NS40MDYtLjM5NyAxLjA1Ni0uMzk3Ii8+PC9zdmc+)}}body{display:flex;flex-direction:column;min-height:100vh}body.no-js .loading-spinner{visibility:hidden}body.no-js .challenge-running{display:none}body.dark{background-color:#222;color:#d9d9d9}body.dark a{color:#fff}body.dark a:hover{color:#ee730a;text-decoration:underline}body.dark .lds-ring div{border-color:#999 transparent transparent}body.dark .font-red{color:#b20f03}body.dark .big-button,body.dark .pow-button{background-color:#4693ff;color:#1d1d1d}body.dark #challenge-success-text{background-image:url(data:image/svg+xml;base64,PHN2ZyB4bWxucz0iaHR0cDovL3d3dy53My5vcmcvMjAwMC9zdmciIHdpZHRoPSIzMiIgaGVpZ2h0PSIzMiIgZmlsbD0ibm9uZSIgdmlld0JveD0iMCAwIDI2IDI2Ij48cGF0aCBmaWxsPSIjZDlkOWQ5IiBkPSJNMTMgMGExMyAxMyAwIDEgMCAwIDI2IDEzIDEzIDAgMCAwIDAtMjZtMCAyNGExMSAxMSAwIDEgMSAwLTIyIDExIDExIDAgMCAxIDAgMjIiLz48cGF0aCBmaWxsPSIjZDlkOWQ5IiBkPSJtMTAuOTU1IDE2LjA1NS0zLjk1LTQuMTI1LTEuNDQ1IDEuMzg1IDUuMzcgNS42MSA5LjQ5NS05LjYtMS40Mi0xLjQwNXoiLz48L3N2Zz4=)}body.dark #challenge-error-text{background-image:url(data:image/svg+xml;base64,PHN2ZyB4bWxucz0iaHR0cDovL3d3dy53My5vcmcvMjAwMC9zdmciIHdpZHRoPSIzMiIgaGVpZ2h0PSIzMiIgZmlsbD0ibm9uZSI+PHBhdGggZmlsbD0iI0IyMEYwMyIgZD0iTTE2IDNhMTMgMTMgMCAxIDAgMTMgMTNBMTMuMDE1IDEzLjAxNSAwIDAgMCAxNiAzbTAgMjRhMTEgMTEgMCAxIDEgMTEtMTEgMTEuMDEgMTEuMDEgMCAwIDEtMTEgMTEiLz48cGF0aCBmaWxsPSIjQjIwRjAzIiBkPSJNMTcuMDM4IDE4LjYxNUgxNC44N0wxNC41NjMgOS41aDIuNzgzem0tMS4wODQgMS40MjdxLjY2IDAgMS4wNTcuMzg4LjQwNy4zODkuNDA3Ljk5NCAwIC41OTYtLjQwNy45ODQtLjM5Ny4zOS0xLjA1Ny4zODktLjY1IDAtMS4wNTYtLjM4OS0uMzk4LS4zODktLjM5OC0uOTg0IDAtLjU5Ny4zOTgtLjk4NS40MDYtLjM5NyAxLjA1Ni0uMzk3Ii8+PC9zdmc+)}body.light{background-color:transparent;color:#313131}body.light a{color:#0051c3}body.light a:hover{color:#ee730a;text-decoration:underline}body.light .lds-ring div{border-color:#595959 transparent transparent}body.light .font-red{color:#fc574a}body.light .big-button,body.light .pow-button{background-color:#003681;border-color:#003681;color:#fff}body.light #challenge-success-text{background-image:url(data:image/svg+xml;base64,PHN2ZyB4bWxucz0iaHR0cDovL3d3dy53My5vcmcvMjAwMC9zdmciIHdpZHRoPSIzMiIgaGVpZ2h0PSIzMiIgZmlsbD0ibm9uZSIgdmlld0JveD0iMCAwIDI2IDI2Ij48cGF0aCBmaWxsPSIjMzEzMTMxIiBkPSJNMTMgMGExMyAxMyAwIDEgMCAwIDI2IDEzIDEzIDAgMCAwIDAtMjZtMCAyNGExMSAxMSAwIDEgMSAwLTIyIDExIDExIDAgMCAxIDAgMjIiLz48cGF0aCBmaWxsPSIjMzEzMTMxIiBkPSJtMTAuOTU1IDE2LjA1NS0zLjk1LTQuMTI1LTEuNDQ1IDEuMzg1IDUuMzcgNS42MSA5LjQ5NS05LjYtMS40Mi0xLjQwNXoiLz48L3N2Zz4=)}body.light #challenge-error-text{background-image:url(data:image/svg+xml;base64,PHN2ZyB4bWxucz0iaHR0cDovL3d3dy53My5vcmcvMjAwMC9zdmciIHdpZHRoPSIzMiIgaGVpZ2h0PSIzMiIgZmlsbD0ibm9uZSI+PHBhdGggZmlsbD0iI2ZjNTc0YSIgZD0iTTE2IDNhMTMgMTMgMCAxIDAgMTMgMTNBMTMuMDE1IDEzLjAxNSAwIDAgMCAxNiAzbTAgMjRhMTEgMTEgMCAxIDEgMTEtMTEgMTEuMDEgMTEuMDEgMCAwIDEtMTEgMTEiLz48cGF0aCBmaWxsPSIjZmM1NzRhIiBkPSJNMTcuMDM4IDE4LjYxNUgxNC44N0wxNC41NjMgOS41aDIuNzgzem0tMS4wODQgMS40MjdxLjY2IDAgMS4wNTcuMzg4LjQwNy4zODkuNDA3Ljk5NCAwIC41OTYtLjQwNy45ODQtLjM5Ny4zOS0xLjA1Ny4zODktLjY1IDAtMS4wNTYtLjM4OS0uMzk4LS4zODktLjM5OC0uOTg0IDAtLjU5Ny4zOTgtLjk4NS40MDYtLjM5NyAxLjA1Ni0uMzk3Ii8+PC9zdmc+)}a{background-color:transparent;color:#0051c3;text-decoration:none;transition:color .15s ease}a:hover{color:#ee730a;text-decoration:underline}.main-content{margin:8rem auto;max-width:60rem;width:100%}.heading-favicon{height:2rem;margin-right:.5rem;width:2rem}@media (width <= 720px){.main-content{margin-top:4rem}.heading-favicon{height:1.5rem;width:1.5rem}}.footer,.main-content{padding-left:1.5rem;padding-right:1.5rem}.main-wrapper{align-items:center;display:flex;flex:1;flex-direction:column}.font-red{color:#b20f03}.spacer{margin:2rem 0}.h1{font-size:2.5rem;font-weight:500;line-height:3.75rem}.h2{font-weight:500}.core-msg,.h2{font-size:1.5rem;line-height:2.25rem}.body-text,.core-msg{font-weight:400}.body-text{font-size:1rem;line-height:1.25rem}@media (width <= 720px){.h1{font-size:1.5rem;line-height:1.75rem}.h2{font-size:1.25rem}.core-msg,.h2{line-height:1.5rem}.core-msg{font-size:1rem}}#challenge-error-text{background-image:url(data:image/svg+xml;base64,PHN2ZyB4bWxucz0iaHR0cDovL3d3dy53My5vcmcvMjAwMC9zdmciIHdpZHRoPSIzMiIgaGVpZ2h0PSIzMiIgZmlsbD0ibm9uZSI+PHBhdGggZmlsbD0iI2ZjNTc0YSIgZD0iTTE2IDNhMTMgMTMgMCAxIDAgMTMgMTNBMTMuMDE1IDEzLjAxNSAwIDAgMCAxNiAzbTAgMjRhMTEgMTEgMCAxIDEgMTEtMTEgMTEuMDEgMTEuMDEgMCAwIDEtMTEgMTEiLz48cGF0aCBmaWxsPSIjZmM1NzRhIiBkPSJNMTcuMDM4IDE4LjYxNUgxNC44N0wxNC41NjMgOS41aDIuNzgzem0tMS4wODQgMS40MjdxLjY2IDAgMS4wNTcuMzg4LjQwNy4zODkuNDA3Ljk5NCAwIC41OTYtLjQwNy45ODQtLjM5Ny4zOS0xLjA1Ny4zODktLjY1IDAtMS4wNTYtLjM4OS0uMzk4LS4zODktLjM5OC0uOTg0IDAtLjU5Ny4zOTgtLjk4NS40MDYtLjM5NyAxLjA1Ni0uMzk3Ii8+PC9zdmc+);padding-left:34px}#challenge-error-text,#challenge-success-text{background-repeat:no-repeat;background-size:contain}#challenge-success-text{background-image:url(data:image/svg+xml;base64,PHN2ZyB4bWxucz0iaHR0cDovL3d3dy53My5vcmcvMjAwMC9zdmciIHdpZHRoPSIzMiIgaGVpZ2h0PSIzMiIgZmlsbD0ibm9uZSIgdmlld0JveD0iMCAwIDI2IDI2Ij48cGF0aCBmaWxsPSIjMzEzMTMxIiBkPSJNMTMgMGExMyAxMyAwIDEgMCAwIDI2IDEzIDEzIDAgMCAwIDAtMjZtMCAyNGExMSAxMSAwIDEgMSAwLTIyIDExIDExIDAgMCAxIDAgMjIiLz48cGF0aCBmaWxsPSIjMzEzMTMxIiBkPSJtMTAuOTU1IDE2LjA1NS0zLjk1LTQuMTI1LTEuNDQ1IDEuMzg1IDUuMzcgNS42MSA5LjQ5NS05LjYtMS40Mi0xLjQwNXoiLz48L3N2Zz4=);padding-left:42px}.text-center{text-align:center}.big-button{border:.063rem solid #0051c3;border-radius:.313rem;font-size:.875rem;line-height:1.313rem;padding:.375rem 1rem;transition-duration:.2s;transition-property:background-color,border-color,color;transition-timing-function:ease}.big-button:hover{cursor:pointer}.captcha-prompt:not(.hidden){display:flex}@media (width <= 720px){.captcha-prompt:not(.hidden){flex-wrap:wrap;justify-content:center}}.pow-button{background-color:#0051c3;color:#fff;margin:2rem 0}.pow-button:hover{background-color:#003681;border-color:#003681;color:#fff}.footer{font-size:.75rem;line-height:1.125rem;margin:0 auto;max-width:60rem;width:100%}.footer-inner{border-top:1px solid #d9d9d9;padding-bottom:1rem;padding-top:1rem}.clearfix:after{clear:both;content:\"\";display:table}.clearfix .column{float:left;padding-right:1.5rem;width:50%}.diagnostic-wrapper{margin-bottom:.5rem}.footer .ray-id{text-align:center}.footer .ray-id code{font-family:monaco,courier,monospace}.core-msg,.zone-name-title{overflow-wrap:break-word}@media (width <= 720px){.diagnostic-wrapper{display:flex;flex-wrap:wrap;justify-content:center}.clearfix:after{clear:none;content:none;display:initial;text-align:center}.column{padding-bottom:2rem}.clearfix .column{float:none;padding:0;width:auto;word-break:keep-all}.zone-name-title{margin-bottom:1rem}}.loading-spinner{height:76.391px}.lds-ring{display:inline-block;position:relative}.lds-ring,.lds-ring div{height:1.875rem;width:1.875rem}.lds-ring div{animation:lds-ring 1.2s cubic-bezier(.5,0,.5,1) infinite;border:.3rem solid transparent;border-radius:50%;border-top-color:#313131;box-sizing:border-box;display:block;position:absolute}.lds-ring div:first-child{animation-delay:-.45s}.lds-ring div:nth-child(2){animation-delay:-.3s}.lds-ring div:nth-child(3){animation-delay:-.15s}@keyframes lds-ring{0%{transform:rotate(0)}to{transform:rotate(1turn)}}@media screen and (-ms-high-contrast:active),screen and (-ms-high-contrast:none){.main-wrapper,body{display:block}}</style><meta content=\"375\" http-equiv=\"refresh\"/></head><body class=\"no-js\"><div class=\"main-wrapper\" role=\"main\"><div class=\"main-content\"><noscript><div id=\"challenge-error-title\"><div class=\"h2\"><span id=\"challenge-error-text\">Enable JavaScript and cookies to continue</span></div></div></noscript></div></div><script>(function(){window._cf_chl_opt={cvId: '3',cZone: \"www.macrotrends.net\",cType: 'managed',cNounce: '67898',cRay: '8605ace8dd227ff9',cHash: 'd16f0ec41a65be3',cUPMDTk: \"\\/stocks\\/charts\\/TSLA\\/tesla\\/revenue?__cf_chl_tk=i_hM5KxY._acwD4ZD75XiXGLTJTeL9hHGJxrS4XGfwk-1709763022-0.0.1.1-1642\",cFPWv: 'b',cTTimeMs: '1000',cMTimeMs: '375000',cTplV: 5,cTplB: 'cf',cK: \"visitor-time\",fa: \"\\/stocks\\/charts\\/TSLA\\/tesla\\/revenue?__cf_chl_f_tk=i_hM5KxY._acwD4ZD75XiXGLTJTeL9hHGJxrS4XGfwk-1709763022-0.0.1.1-1642\",md: \"gpG8Q6GkN4rCsR_20zI2WrJzpetbGPvKgpyO_rBYPFw-1709763022-1.1.1.1-lbfqFUYzK86LjsoKrM2pT4LahZENwyj_sRyvOBkElsSV63VQScUNHK7hPu0gzOAgRJ3A6SKs1U_r5WYx37bkv9mScVy.ayBd5dTQxZ6U4G0_7k64ChdzXaw8dWzgD5opCxngS5PLDUod8Mff3TxHTIpB5ZU6zx_l6_P71o1DnbB6Dll8P6h1msX7TrTRFu0VinrSpQkF71t5FdGWBPFNGA2oDrCVsCxFJBAJV4N4uC_0fqsojH.Pwh9OMN2yjBIL_P1Jy3kfjcD1l98IGMYnMqYR0lqwyC2p9dsT0B9SaPfZIC7wqVzR6A5KbRerImPgofCwHTkgVvMdo4_rslOWcp4ExcJfQUQ8Cu8ynWCVMzCoWbiuoXnv.5Ku.wBxKIUzHb8OQaX.QL7J8QtlOPzCerBsrfzPk36zIYmssquRCBByKE8Em2HbsfZhJRT2Xh6AM0.OKZSFC4RE.3LUiKtojtyP1ryuY.vsyYZdN8PoOzKY7vvxHM7_LqV_8AVJTL6ljoMQUgmq0sw8e6yVua1GWTP7LAOFwngAtMEDcOd_0OV.s6lh008Dj80Q34dI2u9q3wtpR9xAt6XUet5FE5og9Q4zZ.wDGaZiBlk0UKVrM_jprXMXExy6jdDR_UkcufqpQUwTgODDmMpIRXOAwlJ9u582Oscpz9ieF9Gs3vGFgc5nWd960ah5wia3lyEqhNFcZTRHOv5pLU_e9b4aUJCF3KX6EhGXeDd7HL3TnN4_iOn75OdngLa5s1tqrtA3K3nqK4zepsNZZxOHzjuASbqNs5iph3Pv4V_4Ba868vDDPZGEngGWXKAVcDmPfb6s_UO84aEr5DdMKkPttwpb91SGj09mcx.KIEiVr9rnOtP0cXdfYs71wsnj1T7FwWP_gO56c119Aa.u4oglFkhqadRGeFysK2wayz89yty9r0.hMXpiavIutzcRLiDCTgRuHtzT45aJG_FWxPivzUK5Lx0wJVjjeuLMyEIqhX8W06oF_IjdYq1IR1KFoxCpN2ze3nBADVaD8xMtTY7jY8KsGSD7MQe8D2534buBRCF_WV7_j9Y4HaB5y9HsKO4fcO.2r5yJOqbdr7VuuahLTV45ZRyFjpAKQdHsuu2HAD7TyXn0ajvB5Hz39r7NbhgVA56t.1lCde3bOboIaUasBzBD0k3b3ilfNSM5WJ.rFOfZC.S28UQQDJkPINL.hDGJzJgoT9sX3kL550uL5Du3v0AohR_mmJlaEo9e7Y416PaQJ3Z.SsxSdP.u2HOEp9RBiZjtoNMggi63NEyQ1MHooc3Rbnt69cFaPf5N9_lcdn_jglpLPi3XAMRqKk_1ljRoxX9Zwpy05sVJ2jzZj.vsrBdoL8EcmGM7zPJKgcb2_pAfVUdo_B3hTaCp1EhCu9cBJDYtX92ffLO7ILRyJFxPErqNXaB4.1oHx7j2_TeXmHOgDWwhNlP_2DC4VnyaalgaSOKNLtWHKNa6AizsGPSX8hThze2FJnxeEXWfauMGDnM5PpetO.kKAaSDBThflnAuwptbCzYMrpm8nEX2Y7EJu56iNQmpOMGHdfPwmu.w3piSCKdw8XY\",mdrd: \"aeXYTWgh7WXYBgqDMUwy_WQYPMoQNL17_dm61LqGVU8-1709763022-1.1.1.1-Yga.PX0yd9_POfcg2L.el7XIDN5XhK7CmiP_sIoZet3m1rw1LLu0QLifpD9JMvDiEj3r8XjxvgCa9BBWG1cJH2WtwnKgGRgUixZR4aMRm.IP1RAyEGlXt4koudKdbb9uMcv4jx7Xj.DQlGIuzB966JYF7Fot6SubzIleA267E6_x0Vo9VHTCtwSoIBhON_5AxxbbLwvBbWajKkEe.sy355E7ultcxYYElbDjaGan6cKDu2Ox_gj_GO.XY1gVXsJjwiJbh8CgtIvYmbqdcjzsl0FBHR1gD9MkQUG8Z6MMmK91SRHzCbCelr8tdF8zI0nyOc6SKQEyfOrbfrbJcY0j63dJtiFhiD80LPD68dgedKJnZHcRwfxNWzgCw9k3maoVW8Vvt2qUb1urxvKpCZ.0PhmsmqnTrgAefsWKCG0CDJ..kGPTeawsBo5mX5x6sPnHYWNvoQ6M96vWM0bQsEmK4m4DB5i3GyQ9Ig9A31zfgLXP7hR48oVtyblgnWim5mcqV_SKkCgFWVSgJI5.ZCOVMaoQGG_kS.hfkfZzhjJmTpDHVvsz9yH.gYJBgXwB6m7cjMJUjaJ_6H0z5ZMe2T9e_8WFoTKOM_2PWmiT5hYSV5alHVNpqH73Hx__GwHiBiNJHUoVWtBOvhiIH_49e6DSMChtyeIFRP2F6MWixzeJ4LvAIxZ7JtR9e28PL_VQeMkbMniXxfqx4j7isV0cVg6.ABSc75AXD78wT7befd6fc5TlbadxIvDFvBYxSBiQOJcj4SGsuOQNIcEi.xSpq4Prd9lrSYpzHnNIlUXheD4qlDUyWGAGl.86l9G7nFjiySmuyTrdHqXSXqaBc2HZYYLailC7z2jBrK6WGpJoAHCdm7rHR7i_V8l1aZLVgKdz7eQ9RZF.of0cf6cMjOWIxRQFBqpuVz_M2TX3T4OtWM30TKnWhSAIhXa4Ft1RnAFYCQiCFohhFOfriCTb2uvTCM9shZ0OYpQyLLz0jD9wUXNp_TPziwJy._Nj9Vq6LrPFmUA4sL4f8YXHBAORJiZH_yhESGhVGYLTsuJcXy3f8mU1fxlK5UPLg35Q2GTM6JEbmHCgECqMqmtbvaDSCpLZ._S8rKT0Tm4LXgsR2HhCVUb0p_kZn9lN9GCuKXuc9uxs55eoWRF9Xe2C_KkxHfdmQeJbW5QLL7KlKyGHHkkoLNgkBvl9UDXP0WUFL7deAI3773abdsob6PjidKfc50tsmUGACI30I7MwZWmIG3V7lJUYfZ6E1GaX4YxEc9Aroy5SQv9KaFN5pIRRKYdBS14xC4n7nPsoX._4R.9TQKi.oyEDWAM0ddsB1yqn4Y7VkJsPU9ptYhhCoTWjDdORuTbTQSbTxijjqaebM20A0IqVmK7VaXikMlALmsvEYYMov4gBeTwY5yLAe7lorAfdi508ojBZqSzw3h8Ox_sj2zegdQtJxKp_ipvmNPkqeHq3f6D4VGXiaJ0phj.IWXFcgAxxwJubWkj4qAFcaxwhebtt8qxPpByZ4nQvzAfa1SjZSh3Kc3MbFkHOA1wc_2G9qHwfVO_nljclYCu3IfA9nWCb4mH4W1L3rZyCpuH6R_vL.szU8Q3vflBSut8RiLBBLN9hsoO7FwX2XrCXN0q37cEhqBbMneoH_SCQ_ypRveBTqvIYgJsoty0co_KjMCLj4QRA.jF43cX_m_3dlNJf1D8l1ychbvvq32.FIL5MUrd7w68ecTqC.1P6WHejii4m4DrdCH6mKh0dFZbR9hyGg5PN_bity5EE3ZUk2Z1aL.AUOlYUcQKhdNhIFK2NjiXiSI2xQvLjr9SzbijBG8xQaJeGcfZcz2Mw_0BHWJVmKw97_SdMfteSegLoQEN8B.A8u7iQTYGqRQQIyH48lJ3cQQyxQcCAdVpUMO8COV7_PatrFZM7cm05yRWlgP.xhsjHRCJci6D78mMoNY5R4qFFgWYHtt44YAz1elW3YS4STGcvQvAic6gi.E6uEqIKLbiqZuliBdFVuCyFpqxQ0gEQlnpm3j3qYtTmkKngUm4In.nlZKKCChCYqANpbvDGd9m3NE7LUFKm6w\",cRq: {ru: 'aHR0cHM6Ly93d3cubWFjcm90cmVuZHMubmV0L3N0b2Nrcy9jaGFydHMvVFNMQS90ZXNsYS9yZXZlbnVl',ra: 'TW96aWxsYS81LjAgKE1hY2ludG9zaDsgSW50ZWwgTWFjIE9TIFggMTBfMTFfNSkgQXBwbGVXZWJLaXQvNTM3LjM2IChLSFRNTCwgbGlrZSBHZWNrbykgQ2hyb21lLzUwLjAuMjY2MS4xMDIgU2FmYXJpLzUzNy4zNg==',rm: 'R0VU',d: 'HZhp3VwNefLKitUeom0kNgYqg/uBRJHlF3Z+yKOwyB/k8NQPmAFswk9ptbvibQcmFROvb/78DHBSPA2sGrcyaRodmVVuNSY6ZSr9lnfLWAH9siERJzXpnixsNLwxUWbsY6DNFp8bM71yjwxGSfYwt3iftA21abQIMPM8C7iTIfU1qM6NrxDXtA3ccOpAWpkizS+3qhCDp2+XOnv3XN7x9/5c5VirApeVnug/N8U4g6fmN1pyLBJgZ74RJhFK+tYRY1QE81GP6epp2DpCAfwIiwhxc1psB7AhLp83EKW01V7XTA7u0E0SmtHyAfsWbSxRIClmutaA4cW0E2+rzRK7oC9why3D6vbDyduei4zC4++4cWb4qmdT/uZIrWBgZPXzFMZXFM0mtu/Y4e6FMHhs4H/CZRjzMmkX1qPa94xwSjot3udrVnpqPZ5n223XucPaza0zHIJgmhMQJV8kQqmhBr3wcB8oR9q+k7PXc7scC2j1/STMur6By5i/WqrGW0ud2KgnDd4QG6gXuIsRO7OPWX1XLXsCCKvhAdOIwhVQCkauR1HQNuPn+wd/KFq/a8uF5NQglC5rHkNJsgndxS9RdQ==',t: 'MTcwOTc2MzAyMi4yMjgwMDA=',cT: Math.floor(Date.now() / 1000),m: 'AUX+sMdqCub22uRPKVcDslFgwKkrRFHIYpyggUxAAqg=',i1: '9l5RU7TWsn+x0+hzQw8ATg==',i2: '+SREAPKk8imxHpZzMKyzYA==',zh: '3x29lVO8nq/NXG2OdEhf89vgUQ0axXVy6sOUTSfQRV0=',uh: 'MJnL4yXqlDXgoEFDXJrrYdndq9vyeF7u7u/p5sDi8wY=',hh: 'vkZeRkFvijS7WQbLhOK2RF7YksIX97j9JIj48vxNOqc=',}};var cpo = document.createElement('script');cpo.src = '/cdn-cgi/challenge-platform/h/b/orchestrate/chl_page/v1?ray=8605ace8dd227ff9';window._cf_chl_opt.cOgUHash = location.hash === '' && location.href.indexOf('#') !== -1 ? '#' : location.hash;window._cf_chl_opt.cOgUQuery = location.search === '' && location.href.slice(0, location.href.length - window._cf_chl_opt.cOgUHash.length).indexOf('?') !== -1 ? '?' : location.search;if (window.history && window.history.replaceState) {var ogU = location.pathname + window._cf_chl_opt.cOgUQuery + window._cf_chl_opt.cOgUHash;history.replaceState(null, null, \"\\/stocks\\/charts\\/TSLA\\/tesla\\/revenue?__cf_chl_rt_tk=i_hM5KxY._acwD4ZD75XiXGLTJTeL9hHGJxrS4XGfwk-1709763022-0.0.1.1-1642\" + window._cf_chl_opt.cOgUHash);cpo.onload = function() {history.replaceState(null, null, ogU);}}document.getElementsByTagName('head')[0].appendChild(cpo);}());</script></body></html>"
      ]
     },
     "execution_count": 9,
     "metadata": {},
     "output_type": "execute_result"
    }
   ],
   "source": [
    "from bs4 import BeautifulSoup\n",
    "\n",
    "soup = BeautifulSoup(html_data,\"html.parser\")\n",
    "soup"
   ]
  },
  {
   "cell_type": "code",
   "execution_count": null,
   "metadata": {},
   "outputs": [],
   "source": []
  }
 ],
 "metadata": {
  "kernelspec": {
   "display_name": "Python 3",
   "language": "python",
   "name": "python3"
  },
  "language_info": {
   "codemirror_mode": {
    "name": "ipython",
    "version": 3
   },
   "file_extension": ".py",
   "mimetype": "text/x-python",
   "name": "python",
   "nbconvert_exporter": "python",
   "pygments_lexer": "ipython3",
   "version": "3.11.4"
  }
 },
 "nbformat": 4,
 "nbformat_minor": 2
}
